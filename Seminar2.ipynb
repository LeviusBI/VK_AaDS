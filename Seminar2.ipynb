{
 "cells": [
  {
   "cell_type": "code",
   "execution_count": 22,
   "id": "207be5f0-63dd-43b5-85ac-f1cf8a7b4da3",
   "metadata": {},
   "outputs": [],
   "source": [
    "class Node():\n",
    "    def __init__(self, data=None, fut=None):\n",
    "        self.data = data\n",
    "        self.next = fut\n",
    "\n",
    "class LinkedList():\n",
    "    \"\"\"\n",
    "    Реализация односвязного списка на питончике\n",
    "    \"\"\"\n",
    "    def __init__(self, head=None):\n",
    "        if type(head) == '__main__.Node':\n",
    "            self.head = head\n",
    "        else:\n",
    "            self.head = Node(head)\n",
    "        self.size = 0\n",
    "\n",
    "        if head != None:\n",
    "            self.size = 1\n",
    "\n",
    "    def add_new_head(self, data):\n",
    "        \"\"\"\n",
    "        Добавление элемента в начало списка\n",
    "        \"\"\"\n",
    "        \n",
    "        node = Node(n)\n",
    "\n",
    "        if self.head is None:\n",
    "            self.head = node\n",
    "            self.size += 1\n",
    "\n",
    "        \n",
    "        noda.next = self.head\n",
    "        self.size += 1\n",
    "        self.head = noda\n",
    "\n",
    "    def append(self, n):\n",
    "        \"\"\"\n",
    "        Добавление элемента в конец списка\n",
    "        \"\"\"\n",
    "        node = Node(n)\n",
    "        if self.head is None:\n",
    "            self.head = node\n",
    "            self.size += 1\n",
    "            return\n",
    "\n",
    "        current_node = self.head\n",
    "\n",
    "        while current_node.next is not None:\n",
    "            current_node = current_node.next\n",
    "\n",
    "        current_node.next = node\n",
    "\n",
    "\n",
    "    def print_list(self):\n",
    "\n",
    "        current_node = self.head\n",
    "\n",
    "        to_print = \"\"\n",
    "\n",
    "        while current_node is not None:\n",
    "            to_print += str(current_node.data)\n",
    "\n",
    "            if current_node.next:\n",
    "                to_print += \" -> \"\n",
    "            current_node = current_node.next\n",
    "\n",
    "        print(to_print)\n",
    "\n",
    "    def insert(self, after, n):\n",
    "        to_find = self.head\n",
    "        while to_find is not None:\n",
    "            if to_find.data == after:\n",
    "                break\n",
    "            to_find = to_find.next\n",
    "\n",
    "        if to_find is not None:\n",
    "            node = Node(n)\n",
    "            node.next = to_find.next\n",
    "            to_find.next = node"
   ]
  },
  {
   "cell_type": "code",
   "execution_count": 23,
   "id": "578b5112-d6a9-450a-8b40-f904fca61635",
   "metadata": {},
   "outputs": [],
   "source": [
    "class Stack(object):\n",
    "    def __init__(self):\n",
    "        self.top = None\n",
    "\n",
    "    def push(self, data):\n",
    "        new_node = Node(data)\n",
    "\n",
    "        if self.top:\n",
    "            self.top = new_node\n",
    "            return\n",
    "\n",
    "        new_node.next = self.top\n",
    "\n",
    "        self.top = new_node\n",
    "\n",
    "    def pop(self):\n",
    "\n",
    "        if not self.top:\n",
    "            return -1\n",
    "\n",
    "        top = self.top\n",
    "\n",
    "        if self.top.next is not None:\n",
    "            self.top = self.top.next\n",
    "        else:\n",
    "            self.top = None\n",
    "        return top.data\n",
    "        "
   ]
  },
  {
   "cell_type": "markdown",
   "id": "bc2c2557-b645-4078-8904-94914fed575e",
   "metadata": {},
   "source": [
    "# Проверить, является ли список циклическим"
   ]
  },
  {
   "cell_type": "code",
   "execution_count": 25,
   "id": "4f24e855-808a-4ca6-bc60-ee5f63b58534",
   "metadata": {},
   "outputs": [],
   "source": [
    "def hasCycle(lst):\n",
    "    if lst.head is None or lst.head.next is None:\n",
    "        return False\n",
    "    slow = lst.head\n",
    "    fast = lst.head.next\n",
    "\n",
    "    while slow != fast:\n",
    "        if fast is None or fast.next is None:\n",
    "            return False\n",
    "        slow = slow.next\n",
    "        fast = fast.next.next\n",
    "    return True"
   ]
  },
  {
   "cell_type": "markdown",
   "id": "de0a9d58-d281-41b6-885a-3b3f1babfc22",
   "metadata": {},
   "source": [
    "# Развернуть односвязный список"
   ]
  },
  {
   "cell_type": "markdown",
   "id": "e3f6ab08-dfe8-4403-831f-bb6d40c89512",
   "metadata": {},
   "source": [
    "# Найти середину списка"
   ]
  },
  {
   "cell_type": "markdown",
   "id": "1bd88f9f-9a4a-44b0-a5b5-de964ae32980",
   "metadata": {},
   "source": [
    "# Удалить элемент из односвязного списка "
   ]
  },
  {
   "cell_type": "markdown",
   "id": "8568692f-5a7b-4318-b8f8-e65856a2fe12",
   "metadata": {},
   "source": [
    "# Является ли одна строка исходной для другой"
   ]
  },
  {
   "cell_type": "markdown",
   "id": "eb64b15a-2dc5-406d-93a9-650bff7a81bd",
   "metadata": {},
   "source": [
    "# Является ли слово палиндромом"
   ]
  },
  {
   "cell_type": "markdown",
   "id": "0ef49f40-9eed-45b6-9650-9913292b2a08",
   "metadata": {},
   "source": [
    "# Слияние двух отсортированных списков"
   ]
  },
  {
   "cell_type": "code",
   "execution_count": 45,
   "id": "a2ea17af-fec5-4a98-9152-353b898325b9",
   "metadata": {},
   "outputs": [],
   "source": [
    "def merge_two_sorted(l1, l2):\n",
    "    end = l1.head\n",
    "\n",
    "    while end.next is not None:\n",
    "        end = end.next\n",
    "\n",
    "    end.next = l2.head\n",
    "    if end.next.data < l1.head.data:\n",
    "        # inter = l1.head.data\n",
    "        # l1.head.data = end.next.data\n",
    "        # end.next.data = inter\n",
    "        \n",
    "\n",
    "    pointer1 = l1.head.next\n",
    "    pointer2 = end.next\n",
    "    while pointer2 is not None:\n",
    "        if pointer2\n",
    "    l1.print_list()\n",
    "        \n",
    "    \n",
    "            \n",
    "        \n",
    "    \n",
    "    "
   ]
  },
  {
   "cell_type": "code",
   "execution_count": 46,
   "id": "5a5c013b-27f3-4ece-9af2-b3100af0ed1d",
   "metadata": {},
   "outputs": [],
   "source": [
    "l1 = LinkedList(4)\n",
    "l2 = LinkedList(3)"
   ]
  },
  {
   "cell_type": "code",
   "execution_count": 47,
   "id": "f8576787-3e2a-4e4f-b683-2cfa9e4b158d",
   "metadata": {},
   "outputs": [],
   "source": [
    "# l1.append(3)\n",
    "l1.append(6)\n",
    "l1.append(8)\n",
    "# l2.append(4)\n",
    "l2.append(7)\n",
    "l2.append(9)\n",
    "l2.append(11)"
   ]
  },
  {
   "cell_type": "code",
   "execution_count": 48,
   "id": "39d2ad56-542e-4154-9c98-5a4e3f948afc",
   "metadata": {},
   "outputs": [
    {
     "name": "stdout",
     "output_type": "stream",
     "text": [
      "3 -> 6 -> 8 -> 4 -> 7 -> 9 -> 11\n"
     ]
    }
   ],
   "source": [
    "merge_two_sorted(l1, l2)"
   ]
  },
  {
   "cell_type": "code",
   "execution_count": null,
   "id": "e91e9d6a-5c41-46dc-82f3-0ed9899f2c2f",
   "metadata": {},
   "outputs": [],
   "source": []
  }
 ],
 "metadata": {
  "kernelspec": {
   "display_name": "Python 3 (ipykernel)",
   "language": "python",
   "name": "python3"
  },
  "language_info": {
   "codemirror_mode": {
    "name": "ipython",
    "version": 3
   },
   "file_extension": ".py",
   "mimetype": "text/x-python",
   "name": "python",
   "nbconvert_exporter": "python",
   "pygments_lexer": "ipython3",
   "version": "3.10.13"
  }
 },
 "nbformat": 4,
 "nbformat_minor": 5
}

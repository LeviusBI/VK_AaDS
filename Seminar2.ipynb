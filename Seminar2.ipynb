{
 "cells": [
  {
   "cell_type": "code",
   "execution_count": 6,
   "id": "207be5f0-63dd-43b5-85ac-f1cf8a7b4da3",
   "metadata": {},
   "outputs": [],
   "source": [
    "class Node():\n",
    "    def __init__(self, data=None, fut=None):\n",
    "        self.data = data\n",
    "        self.prev = None\n",
    "        self.next = fut\n",
    "\n",
    "class LinkedList():\n",
    "    \"\"\"\n",
    "    Реализация односвязного списка на питончике\n",
    "    \"\"\"\n",
    "    def __init__(self, head=None):\n",
    "        if type(head) == '__main__.Node':\n",
    "            self.head = head\n",
    "        else:\n",
    "            self.head = Node(head)\n",
    "        self.size = 0\n",
    "\n",
    "        if head != None:\n",
    "            self.size = 1\n",
    "\n",
    "    def add_new_head(self, data):\n",
    "        \"\"\"\n",
    "        Добавление элемента в начало списка\n",
    "        \"\"\"\n",
    "        \n",
    "        node = Node(n)\n",
    "\n",
    "        if self.head is None:\n",
    "            self.head = node\n",
    "            self.size += 1\n",
    "\n",
    "        \n",
    "        noda.next = self.head\n",
    "        self.size += 1\n",
    "        self.head = noda\n",
    "\n",
    "    def append(self, n):\n",
    "        \"\"\"\n",
    "        Добавление элемента в конец списка\n",
    "        \"\"\"\n",
    "        node = Node(n)\n",
    "        if self.head is None:\n",
    "            self.head = node\n",
    "            self.size += 1\n",
    "            return\n",
    "\n",
    "        current_node = self.head\n",
    "\n",
    "        while current_node.next is not None:\n",
    "            current_node = current_node.next\n",
    "\n",
    "        current_node.next = node\n",
    "\n",
    "\n",
    "    def print_list(self):\n",
    "\n",
    "        current_node = self.head\n",
    "\n",
    "        to_print = \"\"\n",
    "\n",
    "        while current_node is not None:\n",
    "            to_print += str(current_node.data)\n",
    "\n",
    "            if current_node.next:\n",
    "                to_print += \" -> \"\n",
    "            current_node = current_node.next\n",
    "\n",
    "        print(to_print)\n",
    "\n",
    "    def insert(self, after, n):\n",
    "        to_find = self.head\n",
    "        while to_find is not None:\n",
    "            if to_find.data == after:\n",
    "                break\n",
    "            to_find = to_find.next\n",
    "\n",
    "        if to_find is not None:\n",
    "            node = Node(n)\n",
    "            node.next = to_find.next\n",
    "            to_find.next = node"
   ]
  },
  {
   "cell_type": "code",
   "execution_count": 2,
   "id": "578b5112-d6a9-450a-8b40-f904fca61635",
   "metadata": {},
   "outputs": [],
   "source": [
    "class Stack(object):\n",
    "    def __init__(self):\n",
    "        self.top = None\n",
    "\n",
    "    def push(self, data):\n",
    "        new_node = Node(data)\n",
    "\n",
    "        if self.top:\n",
    "            self.top = new_node\n",
    "            return\n",
    "\n",
    "        new_node.next = self.top\n",
    "\n",
    "        self.top = new_node\n",
    "\n",
    "    def pop(self):\n",
    "\n",
    "        if not self.top:\n",
    "            return -1\n",
    "\n",
    "        top = self.top\n",
    "\n",
    "        if self.top.next is not None:\n",
    "            self.top = self.top.next\n",
    "        else:\n",
    "            self.top = None\n",
    "        return top.data\n",
    "        "
   ]
  },
  {
   "cell_type": "code",
   "execution_count": 25,
   "id": "30ab294a-e88c-4f83-a220-a6b627b87027",
   "metadata": {},
   "outputs": [],
   "source": [
    "class Queue(object):\n",
    "    def __init__(self):\n",
    "        self.head = Node()\n",
    "        self.tail = Node()\n",
    "\n",
    "        self.head.next = self.tail\n",
    "        self.tail.prev = self.head\n",
    "\n",
    "        self.size = 0\n",
    "\n",
    "    def push(self, value):\n",
    "        new_node = Node(value)\n",
    "        new_node.next = self.head.next\n",
    "        new_node.prev = self.head\n",
    "\n",
    "        self.head.next.prev = new_node\n",
    "        self.head.next = new_node\n",
    "        self.size += 1\n",
    "        \n",
    "    def pop(self):\n",
    "        if self.head.next == self.tail:\n",
    "            return None\n",
    "        pop_result = self.tail.prev\n",
    "\n",
    "        self.tail.prev = pop_result.prev\n",
    "\n",
    "        pop_result.prev.next = pop_result.next\n",
    "\n",
    "        pop_result.next = None\n",
    "        pop_result.prev = None\n",
    "\n",
    "        self.size -= 1\n",
    "        return pop_result.data"
   ]
  },
  {
   "cell_type": "markdown",
   "id": "bc2c2557-b645-4078-8904-94914fed575e",
   "metadata": {},
   "source": [
    "# Проверить, является ли список циклическим"
   ]
  },
  {
   "cell_type": "code",
   "execution_count": 3,
   "id": "4f24e855-808a-4ca6-bc60-ee5f63b58534",
   "metadata": {},
   "outputs": [],
   "source": [
    "def hasCycle(lst):\n",
    "    if lst.head is None or lst.head.next is None:\n",
    "        return False\n",
    "    slow = lst.head\n",
    "    fast = lst.head.next\n",
    "\n",
    "    while slow != fast:\n",
    "        if fast is None or fast.next is None:\n",
    "            return False\n",
    "        slow = slow.next\n",
    "        fast = fast.next.next\n",
    "    return True"
   ]
  },
  {
   "cell_type": "markdown",
   "id": "de0a9d58-d281-41b6-885a-3b3f1babfc22",
   "metadata": {},
   "source": [
    "# Развернуть односвязный список"
   ]
  },
  {
   "cell_type": "markdown",
   "id": "2309b87f-f6e1-4709-bfcd-7d2bd1f0243d",
   "metadata": {},
   "source": [
    "Мы записываем в переменную некст перемную, это двойка. Дальше ссылка текущего элемента перемещается с тройки на единицу. Дальше мы просто перемещаем наши указатели. Теперь предыдущий элемент это двойка, а текущий это тройка. А в конце просто делаем хэдом последний элемент."
   ]
  },
  {
   "cell_type": "code",
   "execution_count": 4,
   "id": "97201ece-01ff-4cbe-9a9c-100f53c30f69",
   "metadata": {},
   "outputs": [],
   "source": [
    "def reverse_linked_list(my_list):\n",
    "    prev = None\n",
    "    current = my_list.head\n",
    "\n",
    "    while current is not None:\n",
    "        next_noda = current.next\n",
    "        current.next = prev\n",
    "        prev = current\n",
    "        current = next_noda\n",
    "    my_list.head = prev\n",
    "    return my_list"
   ]
  },
  {
   "cell_type": "markdown",
   "id": "e3f6ab08-dfe8-4403-831f-bb6d40c89512",
   "metadata": {},
   "source": [
    "# Найти середину списка"
   ]
  },
  {
   "cell_type": "code",
   "execution_count": 5,
   "id": "7ce08137-683f-4e8b-a245-ea5b5a645324",
   "metadata": {},
   "outputs": [],
   "source": [
    "def mid_list(my_list):\n",
    "    slow = my_list.head\n",
    "    fast = my_list.head\n",
    "\n",
    "    while fast is not None and fast.next is not None:\n",
    "        slow = slow.next\n",
    "        fast = fast.next.next\n",
    "    return slow"
   ]
  },
  {
   "cell_type": "markdown",
   "id": "1bd88f9f-9a4a-44b0-a5b5-de964ae32980",
   "metadata": {},
   "source": [
    "# Удалить элемент из односвязного списка "
   ]
  },
  {
   "cell_type": "code",
   "execution_count": null,
   "id": "b24fc12e-2f27-4b68-8d54-a074c0a7bb3b",
   "metadata": {},
   "outputs": [],
   "source": [
    "def del_element(my_list, val):\n",
    "    dummy = Node()\n",
    "    dummy.next = my_list.head\n",
    "    prev = dummy\n",
    "    cur = head\n",
    "    while cur is not None:\n",
    "        \n",
    "    pointer.next = pointer.next.next\n",
    "    return my_list"
   ]
  },
  {
   "cell_type": "markdown",
   "id": "8568692f-5a7b-4318-b8f8-e65856a2fe12",
   "metadata": {},
   "source": [
    "# Является ли одна строка исходной для другой"
   ]
  },
  {
   "cell_type": "markdown",
   "id": "8a3897b5-a712-4d00-8cdd-7172c380c761",
   "metadata": {},
   "source": [
    "Класическая задачка, надо проверить, явлется ли одна строка исходной для другой. Есть строка. Есть другая строка, которая может быть сделана из первой путем вставки случайных символов. Надо проверить, что вторая строка получается. Надо попробовать применить стэк. "
   ]
  },
  {
   "cell_type": "code",
   "execution_count": 27,
   "id": "a9f5bc69-f62d-4111-8fb6-b0fa4042e80b",
   "metadata": {},
   "outputs": [],
   "source": [
    "def is_subseq(a, b):\n",
    "    q = Queue()\n",
    "    for i in a:\n",
    "        q.push(i)\n",
    "    a_data = q.pop()\n",
    "    for j in b:\n",
    "        if a_data == j:\n",
    "            a_data = q.pop()\n",
    "\n",
    "\n",
    "    return q.size == 0\n",
    "        \n",
    "        "
   ]
  },
  {
   "cell_type": "code",
   "execution_count": 28,
   "id": "1a11d63f-8be9-4fa7-9e51-4cf4e0dc118c",
   "metadata": {
    "scrolled": true
   },
   "outputs": [
    {
     "name": "stdout",
     "output_type": "stream",
     "text": [
      "it works\n"
     ]
    }
   ],
   "source": [
    "a = 'abd'\n",
    "b = 'uabqd'\n",
    "if is_subseq(a, b):\n",
    "    print('it works')"
   ]
  },
  {
   "cell_type": "markdown",
   "id": "eb64b15a-2dc5-406d-93a9-650bff7a81bd",
   "metadata": {},
   "source": [
    "# Является ли слово палиндромом"
   ]
  },
  {
   "cell_type": "code",
   "execution_count": 30,
   "id": "078af34c-cc23-4e7d-a79c-df820fd1678b",
   "metadata": {},
   "outputs": [],
   "source": [
    "def is_palindrom(s, type_of_algo='2_pointers'):\n",
    "    if type_of_algo == '2_pointers':\n",
    "        left = 0\n",
    "        right = len(s) - 1\n",
    "\n",
    "        while (left < right):\n",
    "            if s[left] != s[right]:\n",
    "                return False\n",
    "            left += 1\n",
    "            right -= 1\n",
    "        return True\n",
    "    elif type_of_algo == 'stack':\n",
    "        stack = Stack()\n",
    "        for i in s:\n",
    "            stack.push(i)\n",
    "        for i in s:\n",
    "            if i != stack.pop():\n",
    "                return False\n",
    "        return True"
   ]
  },
  {
   "cell_type": "markdown",
   "id": "0ef49f40-9eed-45b6-9650-9913292b2a08",
   "metadata": {},
   "source": [
    "# Слияние двух отсортированных списков"
   ]
  },
  {
   "cell_type": "code",
   "execution_count": 45,
   "id": "a2ea17af-fec5-4a98-9152-353b898325b9",
   "metadata": {},
   "outputs": [],
   "source": [
    "def merge_two_sorted(l1, l2):\n",
    "    end = l1.head\n",
    "\n",
    "    while end.next is not None:\n",
    "        end = end.next\n",
    "\n",
    "    end.next = l2.head\n",
    "    if end.next.data < l1.head.data:\n",
    "        # inter = l1.head.data\n",
    "        # l1.head.data = end.next.data\n",
    "        # end.next.data = inter\n",
    "        \n",
    "\n",
    "    pointer1 = l1.head.next\n",
    "    pointer2 = end.next\n",
    "    while pointer2 is not None:\n",
    "        if pointer2\n",
    "    l1.print_list()\n",
    "        \n",
    "    \n",
    "            \n",
    "        \n",
    "    \n",
    "    "
   ]
  },
  {
   "cell_type": "code",
   "execution_count": 46,
   "id": "5a5c013b-27f3-4ece-9af2-b3100af0ed1d",
   "metadata": {},
   "outputs": [],
   "source": [
    "l1 = LinkedList(4)\n",
    "l2 = LinkedList(3)"
   ]
  },
  {
   "cell_type": "code",
   "execution_count": 47,
   "id": "f8576787-3e2a-4e4f-b683-2cfa9e4b158d",
   "metadata": {},
   "outputs": [],
   "source": [
    "# l1.append(3)\n",
    "l1.append(6)\n",
    "l1.append(8)\n",
    "# l2.append(4)\n",
    "l2.append(7)\n",
    "l2.append(9)\n",
    "l2.append(11)"
   ]
  },
  {
   "cell_type": "code",
   "execution_count": 48,
   "id": "39d2ad56-542e-4154-9c98-5a4e3f948afc",
   "metadata": {},
   "outputs": [
    {
     "name": "stdout",
     "output_type": "stream",
     "text": [
      "3 -> 6 -> 8 -> 4 -> 7 -> 9 -> 11\n"
     ]
    }
   ],
   "source": [
    "merge_two_sorted(l1, l2)"
   ]
  },
  {
   "cell_type": "code",
   "execution_count": null,
   "id": "e91e9d6a-5c41-46dc-82f3-0ed9899f2c2f",
   "metadata": {},
   "outputs": [],
   "source": []
  }
 ],
 "metadata": {
  "kernelspec": {
   "display_name": "Python 3 (ipykernel)",
   "language": "python",
   "name": "python3"
  },
  "language_info": {
   "codemirror_mode": {
    "name": "ipython",
    "version": 3
   },
   "file_extension": ".py",
   "mimetype": "text/x-python",
   "name": "python",
   "nbconvert_exporter": "python",
   "pygments_lexer": "ipython3",
   "version": "3.13.2"
  }
 },
 "nbformat": 4,
 "nbformat_minor": 5
}

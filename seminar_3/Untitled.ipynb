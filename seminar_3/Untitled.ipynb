{
 "cells": [
  {
   "cell_type": "markdown",
   "id": "63b6d09a-f531-4058-9e9d-c98927e90c7e",
   "metadata": {},
   "source": [
    "# Найти корень числа (ближайшее целое)\n",
    "Делаем бинарный поиск с проверкой середины в квадрате. Типа проверяем середину в квадрате, больше она, меньше или равна. Мы на вход получаем число и список. Мы берем середину массива, созданного от 0 до таргета. М ыбудем разграничивать участки ,в которых будем искать. Почему l + r может быть проблемой - переполнение размерности типа. "
   ]
  },
  {
   "cell_type": "code",
   "execution_count": 1,
   "id": "f75f5a34-0dfd-4497-a68a-b58ac02dca97",
   "metadata": {},
   "outputs": [],
   "source": [
    "def binary_search_sqrt(target):\n",
    "    l = 0\n",
    "    r = target\n",
    "    while l <= r:\n",
    "        middle = l + (r - l) // 2\n",
    "        if middle ** 2 > target:\n",
    "            r = middle - 1\n",
    "            continue\n",
    "        if middle ** 2 < target:\n",
    "            l = middle + 1\n",
    "            continue\n",
    "        return middle"
   ]
  },
  {
   "cell_type": "code",
   "execution_count": 10,
   "id": "afa42691-8f1d-437a-9609-eb4da52bb39d",
   "metadata": {},
   "outputs": [
    {
     "name": "stderr",
     "output_type": "stream",
     "text": [
      "...\n",
      "----------------------------------------------------------------------\n",
      "Ran 3 tests in 0.001s\n",
      "\n",
      "OK\n"
     ]
    }
   ],
   "source": [
    "import unittest\n",
    "\n",
    "def binary_search_sqrt(target):\n",
    "    l = 0\n",
    "    r = target\n",
    "    while l <= r:\n",
    "        middle = l + (r - l) // 2\n",
    "        if middle ** 2 > target:\n",
    "            r = middle - 1\n",
    "            continue\n",
    "        if middle ** 2 < target:\n",
    "            l = middle + 1\n",
    "            continue\n",
    "        return middle\n",
    "    return r  \n",
    "\n",
    "class TestBinarySearchSqrt(unittest.TestCase):\n",
    "\n",
    "    def test_round_squares(self):\n",
    "        self.assertEqual(binary_search_sqrt(0), 0)  \n",
    "        self.assertEqual(binary_search_sqrt(1), 1) \n",
    "        self.assertEqual(binary_search_sqrt(4), 2)  \n",
    "        self.assertEqual(binary_search_sqrt(16), 4)  \n",
    "\n",
    "    def test_non_round_squares(self):\n",
    "        self.assertEqual(binary_search_sqrt(2), 1)  \n",
    "        self.assertEqual(binary_search_sqrt(3), 1)  \n",
    "        self.assertEqual(binary_search_sqrt(5), 2) \n",
    "\n",
    "\n",
    "    def test_edge_cases(self):\n",
    "        self.assertEqual(binary_search_sqrt(0), 0)\n",
    "        self.assertEqual(binary_search_sqrt(1), 1)  \n",
    "        self.assertEqual(binary_search_sqrt(2), 1)  \n",
    "\n",
    "if __name__ == '__main__':\n",
    "    unittest.main(argv=['first-arg-is-ignored'], exit=False)"
   ]
  },
  {
   "cell_type": "markdown",
   "id": "98b71311-d06d-473b-98d8-a4aab0a4d1e3",
   "metadata": {},
   "source": [
    "# Очень легкая задача\n",
    "\n",
    "Сегодня утром жюри решило добавить в вариант олимпиады еще одну, Очеь Легкую Задачу. Ответственный секретарь Оргкомитета напечатал ее улосвие в одном экземлпяре, и теперь ему нужно до начала олмипиады успеть сделать еще N копий. В его распоряжении имеются два ксерокса. Один из которых копирует лист за х секунд, а другой за у. Разрешается использовать как один ксерокс, так и оба одновременно. Можно копировать не только с оригинала, но и с копии. Помогите выяснить, какое минимальное время для этого потребуется. \n",
    "На первой итерации мы берем самый быстрый -- его время для создания копии, которая пойдет во второй. Т.е. мы считаем большее число на первом принтере, который быстрее. Дл яопредлеения итоговог орезультата нам надо найти, за какое время мы можем это сделать. \n",
    "Для начала нам нужно сделать копию, чтобы можно было загрузить два принтера. Далее задача сводится к копированию н - 1 листов.\n",
    "Допустим, нам надо сделать 5 копий, принтер Х копирует лист за 1 минуту, принтер У за 2. \n",
    "Делаем копию и далее копируем на двух ксероксах. \n",
    "Минимальное время у нас 0, потому что у нас первая копия есть, т.е. нам же может понадобиться всего лишь 1 экземпляр. Т.е. мы начинаем считать от второй копии. \n",
    "Нам надо определять середину. Середина это будет не обязательно середина, а значение, от которого мы будем отталкиваться. Т.е. мы должны как-то особенным образом вычислить эту середину, чтобы применить бинпоиск. "
   ]
  },
  {
   "cell_type": "code",
   "execution_count": null,
   "id": "6ddc7b68-7a25-4bad-92f2-a3a5be97bcd7",
   "metadata": {},
   "outputs": [],
   "source": [
    "def copy_time(n, x, y):\n",
    "    l = 0\n",
    "    r = (n - 1) * max(x, y)\n",
    "    while l + 1 < r:\n",
    "        mid = (r + l)//2\n",
    "        if mid // x + mid // y < n - 1: # количество листов, которое 2 ксерокса могут напечатать на текущий момент\n",
    "            l = mid\n",
    "        else:\n",
    "            r = mid\n",
    "\n",
    "    return r + min(x, y)"
   ]
  },
  {
   "cell_type": "markdown",
   "id": "96f9df12-e325-4367-a474-9c19026c912b",
   "metadata": {},
   "source": [
    "# Накормить животных\n",
    "\n",
    "У нас есть количество животных .которые потребляют еды. И нам привозят для них пачки еды. В формате еды. На вход подается 2 массива целых числе. Первый массив - потребности животынх, второй - количество привезенной еды. Необходимо вернуть целок число - количество накормленных зверей. \n",
    "\n",
    "Какой принцип к этим массивам применяем. Нам тут нужно два указателя. Сортируем два массива, потом идем двумя указателями. Если у нас порция больше, чем потребляет животное, то мы сдвигаем указатель и на животном, и на еде. Если еды меньше, чем минимальное животное, то возвращаем ноль. У сортировок сложность n*log(n). "
   ]
  },
  {
   "cell_type": "code",
   "execution_count": 2,
   "id": "132eba7c-2ce3-4ba7-a22c-6b39ab8958f5",
   "metadata": {},
   "outputs": [],
   "source": [
    "def feed_animals(animals, food):\n",
    "    if 0 in (len(animals), len(food)):\n",
    "        return 0\n",
    "    animals.sorted()\n",
    "    sorted(animals)\n",
    "\n",
    "    count = 0\n",
    "    for f in food:\n",
    "        if f >= animals[count]:\n",
    "            count += 1\n",
    "        if count == len(animals):\n",
    "            break\n",
    "\n",
    "    return count\n",
    "        "
   ]
  },
  {
   "cell_type": "markdown",
   "id": "0910dc12-e370-4c68-b987-7b65d7d14a03",
   "metadata": {},
   "source": [
    "# Найти разницу между двух строк\n",
    "\n",
    "На вход функции подается две строки, а и  б. СТрока б образована из строки а путем преемещивания и добавления одной буквы. Надо найти эту букву и вернуть. \n",
    "\n",
    "uio -> oeiu return e\n",
    "\n",
    "Можно сделать два словаря, сделать между ними разницу."
   ]
  },
  {
   "cell_type": "code",
   "execution_count": null,
   "id": "5b6b07c1-fc52-48bb-b229-d855788791d8",
   "metadata": {},
   "outputs": [],
   "source": [
    "def extra_letter(a, b):\n",
    "    hash_b = {i: b.count(i) for i  in b}\n",
    "    "
   ]
  },
  {
   "cell_type": "markdown",
   "id": "ebc32043-83fe-494a-ae77-74915f4b9bc5",
   "metadata": {},
   "source": [
    "# Сумма двух элементов массива\n",
    "Дан не отсортированный массив целых чисел, и некоторое число target. Необходимо написать функциюб, которая найдет два таких элемента в массиве, сумма которых будет равна terget. Один элемент можно использовать лишь один раз. В случае если два таких элемента не нашлось, возвращаем пустой массив. \n",
    "\n",
    "Мы можем отсортировать его иметодом Шелла и применить прежнее решение. Делать мы так конечно же не будем. \n",
    "\n",
    "Будет ли алгоритм работать с повторяющимися значениями? Нет, не будет, потому что ключ уже не уникальный. В прицнипе алгоритм правильный. У нас есть словарь, ключ - число, значение - индекс числа. Мы двигаемся, заполняем нашу мапу, потом проходим за одну итерацию. Мы в этом же цикле заполняем словарь и делаем проверку. Если таргет минус дата итое есть уже в нашей таблице, то мы возвращаем. "
   ]
  },
  {
   "cell_type": "code",
   "execution_count": null,
   "id": "e5717cc7-8d1a-4e69-8399-7285f4e71d6c",
   "metadata": {},
   "outputs": [],
   "source": [
    "def twoSum(data, target):\n",
    "    cache = {}  \n",
    "    for i in range(len(data)):\n",
    "        diff = target - data[i] \n",
    "        if diff in cache: \n",
    "            return [cache[diff], i]\n",
    "        cache[data[i]] = i \n",
    "    return [] "
   ]
  },
  {
   "cell_type": "markdown",
   "id": "8fe1ecb3-4c33-4b9a-94b5-ac09e951ac17",
   "metadata": {},
   "source": [
    "Есть сортировка Shell sort\n",
    "\n",
    "Усовершенствованный алгоритм сортировки вставками. Сравнвиаем не рядом стоящие элемента, а элементы, которые располагаются на определенном удалении (шаге) друг от друга. \n",
    "Мы определяем шаг, gap, который будет длиной массива пополам. Находим элемент с индексом gap (current_position). Сравниваем этот элемент с элементом под индексом current_position и элемент с индексом current_position - gap. "
   ]
  },
  {
   "cell_type": "code",
   "execution_count": null,
   "id": "c7cbc76c-c26a-4a2a-8eec-f49c30d783e9",
   "metadata": {},
   "outputs": [],
   "source": [
    "def shell_sort(arr):\n",
    "    n = len(arr)\n",
    "    gap = len(arr) // 2\n",
    "    while gap > 0:\n",
    "        for current_position in range(gap, n):\n",
    "            m_gap = current_position\n",
    "            while m_gap >= gap and arr[m_gap] < arr[m_gap - gap]:\n",
    "                arr[m_gap], arr[m_gap - gap] = arr[m_gap - gap], arr[m_gap]\n",
    "                m_gap -= gap\n",
    "        gap = gap // 2\n",
    "    return arr"
   ]
  },
  {
   "cell_type": "markdown",
   "id": "7e4c1041-910f-4996-81f1-447a5ffc5534",
   "metadata": {},
   "source": [
    "# Префиксные деревья"
   ]
  },
  {
   "cell_type": "markdown",
   "id": "1905d9f1-2991-4d8e-a25e-1f33dc8836b7",
   "metadata": {},
   "source": [
    "Можно ли построить из этогшо алгоритма несбалансированное дерево? Скажем так, если на вход подается массив, то несбалансированное дерево построить нельзя. Но по этому алгоритму построить несбалансированное дерево, если у нас будут null значения в массиве. Т.е. в целом можно построить несбалансированное дерево. "
   ]
  },
  {
   "cell_type": "code",
   "execution_count": null,
   "id": "e19eada4-3c4f-4419-825c-0212b9d81545",
   "metadata": {},
   "outputs": [],
   "source": [
    "class TreeNode():\n",
    "    def __init__(self, val = 0, left = None, right = None):\n",
    "        self.data = val\n",
    "        self.left = left\n",
    "        self.rights = right\n",
    "\n",
    "\n",
    "def build_tree(arr, i):\n",
    "    if i >= len(arr):\n",
    "        return None\n",
    "    root = TreeNode(arr[i])\n",
    "    root.left = build_tree(arr, 2 * i + 1)\n",
    "    root.right = build_tree(arr, 2 * i + 2)\n",
    "\n",
    "    return root\n",
    "    \n",
    "        "
   ]
  },
  {
   "cell_type": "markdown",
   "id": "03c7829f-8f0e-433d-bb3b-fe03195f1840",
   "metadata": {},
   "source": [
    "# Симметричное дерево BFS"
   ]
  },
  {
   "cell_type": "code",
   "execution_count": 4,
   "id": "4d3f0598-70bc-432f-8f3a-0ec08ebf9bb1",
   "metadata": {},
   "outputs": [],
   "source": [
    "def is_symmetric(root):\n",
    "    if root == None:\n",
    "        return True\n",
    "    queue = [root]\n",
    "\n",
    "    while len(queue) > 0:\n",
    "        queue_len = len(queue)\n",
    "        for i in range(0, queue_len):\n",
    "            if queue[i] is None and queue[queue_len -i - 1] is None:\n",
    "                continue\n",
    "            if queue[i] is None or queue[queue_len -i - 1] is None:\n",
    "                return False\n",
    "            if queue[i].data != queue[queue_len - i - 1].data:\n",
    "                return False\n",
    "\n",
    "            if queue[i] is not None:\n",
    "                queue.append(queue[i].left)\n",
    "                queue.append(queue[i].right)\n",
    "\n",
    "        queue = queue[queue_len:]\n",
    "\n",
    "    return True"
   ]
  },
  {
   "cell_type": "code",
   "execution_count": null,
   "id": "b8d70b6e-be9a-4d8a-a543-c30cebcbc73f",
   "metadata": {},
   "outputs": [],
   "source": [
    "def depth_search(root, res):\n",
    "    if root == None:\n",
    "        return res\n",
    "    depth_search(root.left, res)\n",
    "    res.append(root.data)\n",
    "    depth_search(root.right, res)\n",
    "\n",
    "    return res\n",
    "\n",
    "def is_symmetric_DFS(root):\n",
    "    if root == None:\n",
    "        return True\n",
    "    data = []\n",
    "    data = depth_search(root, data)\n",
    "    j = len(data) - 1\n",
    "    for i in range(len(data)//2):\n",
    "        if data[i] != data[j]:\n",
    "            return False\n",
    "        j -= 1\n",
    "    return True"
   ]
  }
 ],
 "metadata": {
  "kernelspec": {
   "display_name": "Python 3 (ipykernel)",
   "language": "python",
   "name": "python3"
  },
  "language_info": {
   "codemirror_mode": {
    "name": "ipython",
    "version": 3
   },
   "file_extension": ".py",
   "mimetype": "text/x-python",
   "name": "python",
   "nbconvert_exporter": "python",
   "pygments_lexer": "ipython3",
   "version": "3.13.2"
  }
 },
 "nbformat": 4,
 "nbformat_minor": 5
}

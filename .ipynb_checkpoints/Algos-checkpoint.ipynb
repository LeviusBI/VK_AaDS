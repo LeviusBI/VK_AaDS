{
 "cells": [
  {
   "cell_type": "code",
   "execution_count": 3,
   "id": "aba283fc-c00c-497f-ba9c-b3456401f2b4",
   "metadata": {},
   "outputs": [],
   "source": [
    "def twoSum(nums, target):\n",
    "    i = 0\n",
    "    j = len(nums) - 1\n",
    "    while i < j:\n",
    "        my_sum = nums[i] + nums[j]\n",
    "        if my_sum < target:\n",
    "            i += 1\n",
    "        elif my_sum > target:\n",
    "            j -= 1\n",
    "        else:\n",
    "            return [f'{i}', f'{j}']"
   ]
  },
  {
   "cell_type": "code",
   "execution_count": 4,
   "id": "ddd35e49-e7cd-4a16-864f-c49da790004c",
   "metadata": {
    "scrolled": true
   },
   "outputs": [
    {
     "data": {
      "text/plain": [
       "['2', '4']"
      ]
     },
     "execution_count": 4,
     "metadata": {},
     "output_type": "execute_result"
    }
   ],
   "source": [
    "twoSum([3, 8, 9, 11, 16, 18, 19, 21], 25)"
   ]
  },
  {
   "cell_type": "code",
   "execution_count": 5,
   "id": "f54692fd-6a73-4f79-8952-d26bc14e3979",
   "metadata": {},
   "outputs": [
    {
     "data": {
      "text/plain": [
       "[6, 8, 9, 9, 6, 8, 3]"
      ]
     },
     "execution_count": 5,
     "metadata": {},
     "output_type": "execute_result"
    }
   ],
   "source": [
    "def reverseArray(arr):\n",
    "    i = 0\n",
    "    j = len(arr) - 1\n",
    "    while i < j:\n",
    "        arr[i], arr[j] = arr[j], arr[i]\n",
    "        i += 1\n",
    "        j -= 1\n",
    "    return arr\n",
    "reverted = reverseArray([3, 8, 6, 9, 9, 8, 6])\n",
    "reverted"
   ]
  },
  {
   "cell_type": "code",
   "execution_count": 19,
   "id": "c55e34fe-3c85-4276-9b35-5c9370ee66c7",
   "metadata": {},
   "outputs": [
    {
     "data": {
      "text/plain": [
       "([5, 6, 7, 1, 2, 3, 4], [7, 1, 2, 3, 4, 5, 6])"
      ]
     },
     "execution_count": 19,
     "metadata": {},
     "output_type": "execute_result"
    }
   ],
   "source": [
    "def reverseArray(arr, left, right):\n",
    "    while left < right:\n",
    "        arr[left], arr[right] = arr[right], arr[left]\n",
    "        left += 1\n",
    "        right -= 1\n",
    "    return arr\n",
    "        \n",
    "def reversePartArray(arr, k):\n",
    "    n = len(arr)\n",
    "    arr = reverseArray(arr, 0, n - 1)\n",
    "    arr = reverseArray(arr, 0, k % n - 1)\n",
    "    arr = reverseArray(arr, k % n, n - 1)\n",
    "    return arr\n",
    "\n",
    "result1 = reversePartArray([1, 2, 3, 4, 5, 6, 7], 3)\n",
    "result2 = reversePartArray([1, 2, 3, 4, 5, 6, 7], 8)\n",
    "result1, result2\n"
   ]
  },
  {
   "cell_type": "code",
   "execution_count": 22,
   "id": "a8066322-256e-4b70-b235-edb9a30e8034",
   "metadata": {
    "scrolled": true
   },
   "outputs": [
    {
     "data": {
      "text/plain": [
       "[1, 3, 7, 8, 9, 10, 11]"
      ]
     },
     "execution_count": 22,
     "metadata": {},
     "output_type": "execute_result"
    }
   ],
   "source": [
    "def mergeSortedArrs(arr1, arr2):\n",
    "    first = len(arr1) - len(arr2) - 1\n",
    "    second = len(arr2) - 1\n",
    "    third = len(arr1) - 1\n",
    "    while second >= 0:\n",
    "        if first >= 0 and arr1[first] > arr2[second]:\n",
    "            arr1[third] = arr1[first]\n",
    "            first -= 1\n",
    "        else:\n",
    "            arr1[third] = arr2[second]\n",
    "            second -= 1\n",
    "        third -= 1\n",
    "    return arr1\n",
    "\n",
    "result = mergeSortedArrs([3, 8, 10, 11, 0, 0, 0], [1, 7, 9])\n",
    "result"
   ]
  },
  {
   "cell_type": "code",
   "execution_count": 23,
   "id": "58c75565-b0f1-4a47-b0c2-12dd444009b9",
   "metadata": {},
   "outputs": [
    {
     "data": {
      "text/plain": [
       "[0, 0, 0, 0, 1, 1, 1, 1]"
      ]
     },
     "execution_count": 23,
     "metadata": {},
     "output_type": "execute_result"
    }
   ],
   "source": [
    "def sortBinaries(arr):\n",
    "    l = 0\n",
    "    r = len(arr) - 1\n",
    "    while l < r:\n",
    "        if arr[l] == 0:\n",
    "            l += 1\n",
    "        elif arr[r] == 1:\n",
    "            r -= 1\n",
    "        else: \n",
    "            arr[l], arr[r] = arr[r], arr[l]\n",
    "            l += 1\n",
    "            r -= 1\n",
    "    return arr\n",
    "\n",
    "result = sortBinaries([0, 1, 1, 0, 1, 0, 1, 0])\n",
    "result"
   ]
  },
  {
   "cell_type": "code",
   "execution_count": null,
   "id": "21aba838-e59e-4390-90f5-3f9f40b458ca",
   "metadata": {},
   "outputs": [],
   "source": []
  },
  {
   "cell_type": "code",
   "execution_count": 24,
   "id": "e99b79b5-517f-4b77-ac4d-0604fa2f2384",
   "metadata": {},
   "outputs": [
    {
     "data": {
      "text/plain": [
       "[0, 0, 0, 0, 1, 1, 1, 1]"
      ]
     },
     "execution_count": 24,
     "metadata": {},
     "output_type": "execute_result"
    }
   ],
   "source": [
    "def sortBinariesEnhances(arr):\n",
    "    l, r = 0, len(arr) - 1\n",
    "    while l < r:\n",
    "        if arr[l] == 1:\n",
    "            arr[l], arr[r] = arr[r], arr[l]\n",
    "            r -= 1\n",
    "        else:\n",
    "            l += 1\n",
    "\n",
    "    return arr\n",
    "\n",
    "result = sortBinariesEnhances([0, 1, 1, 0, 1, 0, 1, 0])\n",
    "result"
   ]
  },
  {
   "cell_type": "code",
   "execution_count": 28,
   "id": "636052fd-4520-4b6a-977c-1796f69fc213",
   "metadata": {},
   "outputs": [
    {
     "data": {
      "text/plain": [
       "[1, 3, 12, 0, 0, 0]"
      ]
     },
     "execution_count": 28,
     "metadata": {},
     "output_type": "execute_result"
    }
   ],
   "source": [
    "def badToEnd(arr):\n",
    "    first = 0\n",
    "    second = 0 \n",
    "    while second <= len(arr) - 1:\n",
    "        if arr[first] == 0 and arr[second] == 0:\n",
    "            second += 1\n",
    "        elif arr[second] != 0:\n",
    "            arr[first], arr[second] = arr[second], arr[first]\n",
    "            first += 1\n",
    "    return arr\n",
    "result = badToEnd([0, 0, 1, 0, 3, 12])\n",
    "result        \n",
    "            "
   ]
  },
  {
   "cell_type": "code",
   "execution_count": 29,
   "id": "a9c0d765-be0b-464e-8c2e-c1a6eef28ce3",
   "metadata": {},
   "outputs": [
    {
     "data": {
      "text/plain": [
       "[33, 57, 88, 60, 80, 99, 0, 0, 0]"
      ]
     },
     "execution_count": 29,
     "metadata": {},
     "output_type": "execute_result"
    }
   ],
   "source": [
    "result = badToEnd([0, 33, 57, 88, 60, 0, 0, 80, 99])\n",
    "result"
   ]
  },
  {
   "cell_type": "code",
   "execution_count": null,
   "id": "991cd51b-fa98-437e-8a8b-e575cacb8973",
   "metadata": {},
   "outputs": [],
   "source": []
  }
 ],
 "metadata": {
  "kernelspec": {
   "display_name": "Python 3 (ipykernel)",
   "language": "python",
   "name": "python3"
  },
  "language_info": {
   "codemirror_mode": {
    "name": "ipython",
    "version": 3
   },
   "file_extension": ".py",
   "mimetype": "text/x-python",
   "name": "python",
   "nbconvert_exporter": "python",
   "pygments_lexer": "ipython3",
   "version": "3.13.2"
  }
 },
 "nbformat": 4,
 "nbformat_minor": 5
}

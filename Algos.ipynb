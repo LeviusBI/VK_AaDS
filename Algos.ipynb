{
 "cells": [
  {
   "cell_type": "code",
   "execution_count": 1,
   "id": "aba283fc-c00c-497f-ba9c-b3456401f2b4",
   "metadata": {},
   "outputs": [],
   "source": [
    "def twoSum(nums, target):\n",
    "    i = 0\n",
    "    j = len(nums) - 1\n",
    "    while i < j:\n",
    "        my_sum = nums[i] + nums[j]\n",
    "        if my_sum < target:\n",
    "            i += 1\n",
    "        elif my_asum > target:\n",
    "            j -= 1\n",
    "        else:\n",
    "            return [f'{i}', f'{j}']"
   ]
  },
  {
   "cell_type": "code",
   "execution_count": 2,
   "id": "ddd35e49-e7cd-4a16-864f-c49da790004c",
   "metadata": {
    "scrolled": true
   },
   "outputs": [
    {
     "name": "stdout",
     "output_type": "stream",
     "text": [
      "2, 4\n"
     ]
    }
   ],
   "source": [
    "twoSum([3, 8, 9, 11, 16, 18, 19, 21], 25)"
   ]
  },
  {
   "cell_type": "code",
   "execution_count": 3,
   "id": "f54692fd-6a73-4f79-8952-d26bc14e3979",
   "metadata": {},
   "outputs": [
    {
     "data": {
      "text/plain": [
       "[6, 8, 9, 9, 6, 8, 3]"
      ]
     },
     "execution_count": 3,
     "metadata": {},
     "output_type": "execute_result"
    }
   ],
   "source": [
    "def reverseArray(arr):\n",
    "    i = 0\n",
    "    j = len(arr) - 1\n",
    "    while i < j:\n",
    "        arr[i], arr[j] = arr[j], arr[i]\n",
    "        i += 1\n",
    "        j -= 1\n",
    "    return arr\n",
    "reverted = reverseArray([3, 8, 6, 9, 9, 8, 6])\n",
    "reverted"
   ]
  },
  {
   "cell_type": "code",
   "execution_count": null,
   "id": "c55e34fe-3c85-4276-9b35-5c9370ee66c7",
   "metadata": {},
   "outputs": [],
   "source": []
  }
 ],
 "metadata": {
  "kernelspec": {
   "display_name": "Python 3 (ipykernel)",
   "language": "python",
   "name": "python3"
  },
  "language_info": {
   "codemirror_mode": {
    "name": "ipython",
    "version": 3
   },
   "file_extension": ".py",
   "mimetype": "text/x-python",
   "name": "python",
   "nbconvert_exporter": "python",
   "pygments_lexer": "ipython3",
   "version": "3.13.2"
  }
 },
 "nbformat": 4,
 "nbformat_minor": 5
}
